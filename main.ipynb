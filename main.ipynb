{
 "cells": [
  {
   "cell_type": "markdown",
   "id": "419f9829",
   "metadata": {},
   "source": [
    "# Best Models\n",
    "Chan Wei Jian Ivan\n",
    "1005924\n",
    "Tom Manuel Opalla Piccio\n",
    "1006293\n",
    "Deshpande Sunny Nitin\n",
    "1006336\n",
    "\n"
   ]
  },
  {
   "cell_type": "code",
   "execution_count": 1,
   "id": "6084a001",
   "metadata": {},
   "outputs": [],
   "source": [
    "import torch\n",
    "from torch.utils.data import Dataset\n",
    "import pandas as pd\n",
    "import pytz\n",
    "import numpy as np\n",
    "import os\n",
    "import sys\n",
    "import glob\n",
    "import torch.nn as nn\n",
    "import torch.nn.functional as F\n",
    "from torch.utils.data import random_split, DataLoader\n",
    "from datetime import datetime\n",
    "import matplotlib.pyplot as plt\n",
    "import re\n",
    "from sklearn.metrics import precision_score, recall_score, f1_score\n",
    "from torch.utils.data import ConcatDataset, TensorDataset"
   ]
  },
  {
   "cell_type": "code",
   "execution_count": 2,
   "id": "f9fde2e6",
   "metadata": {},
   "outputs": [],
   "source": [
    "# Define the directory and base filename pattern\n",
    "file_path_test = \"data/test_data/cleaned_compiled_data_normalized.csv\"\n",
    "\n",
    "# Load and concatenate all parts\n",
    "test_data = pd.read_csv(file_path_test)"
   ]
  },
  {
   "cell_type": "code",
   "execution_count": 3,
   "id": "8b660a41",
   "metadata": {},
   "outputs": [
    {
     "name": "stdout",
     "output_type": "stream",
     "text": [
      "cuda\n"
     ]
    }
   ],
   "source": [
    "device = torch.device(\"cuda\" if torch.cuda.is_available() else \"cpu\")\n",
    "print(device)\n",
    "torch.set_default_device(device)\n",
    "\n",
    "g = torch.Generator(device=device)"
   ]
  },
  {
   "cell_type": "code",
   "execution_count": 4,
   "id": "217dd0bc",
   "metadata": {},
   "outputs": [],
   "source": [
    "def safe_sigmoid(x):\n",
    "    # If all outputs are already in [0, 1], assume sigmoid already applied\n",
    "    if x.min() >= 0 and x.max() <= 1:\n",
    "        return x  # Already probabilities\n",
    "    return torch.sigmoid(x)  # Assume logits\n",
    "\n",
    "def evaluate_metrics(dataloader, model, device=\"cuda\"):\n",
    "    model.eval()\n",
    "    model.to(device)\n",
    "    all_preds, all_targets = [], []\n",
    "\n",
    "    with torch.no_grad():\n",
    "        for inputs, targets in dataloader:\n",
    "            # Convert from NumPy if needed\n",
    "            if isinstance(inputs, np.ndarray):\n",
    "                inputs = torch.tensor(inputs)\n",
    "            if isinstance(targets, np.ndarray):\n",
    "                targets = torch.tensor(targets)\n",
    "\n",
    "            inputs = inputs.to(device)\n",
    "            targets = targets.to(device)\n",
    "\n",
    "            outputs = model(inputs)\n",
    "            \n",
    "            probs = safe_sigmoid(outputs)\n",
    "            preds = (probs > 0.5).int()\n",
    "\n",
    "            all_preds.append(preds.cpu())\n",
    "            all_targets.append(targets.cpu())\n",
    "\n",
    "    all_preds = torch.cat(all_preds).numpy()\n",
    "    all_targets = torch.cat(all_targets).numpy()\n",
    "\n",
    "    accuracy = (all_preds == all_targets).mean()\n",
    "    precision = precision_score(all_targets, all_preds, average=\"macro\", zero_division=0)\n",
    "    recall = recall_score(all_targets, all_preds, average=\"macro\", zero_division=0)\n",
    "    f1 = f1_score(all_targets, all_preds, average=\"macro\", zero_division=0)\n",
    "\n",
    "    print(\"🔎 Evaluation Results for LSTM Model\")\n",
    "    print(\"====================================\")\n",
    "    print(f\"✅ Accuracy : {accuracy:.2f}\")\n",
    "    print(f\"🎯 Precision: {precision:.4f}\")\n",
    "    print(f\"🔁 Recall   : {recall:.4f}\")\n",
    "    print(f\"📊 F1 Score : {f1:.4f}\")\n",
    "\n",
    "    return accuracy, precision, recall, f1\n"
   ]
  },
  {
   "cell_type": "code",
   "execution_count": 5,
   "id": "2a0f4de0",
   "metadata": {},
   "outputs": [
    {
     "name": "stderr",
     "output_type": "stream",
     "text": [
      "d:\\Documents\\Term 8\\Deep Learning\\Lightning_Risk_Prediction\\LSTM\\LSTM.py:48: FutureWarning: Series.interpolate with object dtype is deprecated and will raise in a future version. Call obj.infer_objects(copy=False) before interpolating instead.\n",
      "  self.compiled_df[col] = self.compiled_df[col].interpolate(limit_direction='both')\n"
     ]
    }
   ],
   "source": [
    "from LSTM import LSTM_Dataset,LSTM_Module\n",
    "LSTM_dataset = LSTM_Dataset(test_data)\n",
    "LSTM_dataloader = DataLoader(LSTM_dataset, batch_size=64, shuffle=True, generator=g)"
   ]
  },
  {
   "cell_type": "code",
   "execution_count": 6,
   "id": "f513d32a",
   "metadata": {},
   "outputs": [
    {
     "name": "stderr",
     "output_type": "stream",
     "text": [
      "C:\\Users\\tomma\\AppData\\Local\\Programs\\Python\\Python313\\Lib\\site-packages\\torch\\nn\\modules\\rnn.py:123: UserWarning: dropout option adds dropout after all but last recurrent layer, so non-zero dropout expects num_layers greater than 1, but got dropout=0.2 and num_layers=1\n",
      "  warnings.warn(\n"
     ]
    },
    {
     "data": {
      "text/plain": [
       "LSTM_Module(\n",
       "  (lstm): LSTM(35, 128, batch_first=True, dropout=0.2)\n",
       "  (fc): Sequential(\n",
       "    (0): Linear(in_features=128, out_features=64, bias=True)\n",
       "    (1): ReLU()\n",
       "    (2): Dropout(p=0.2, inplace=False)\n",
       "    (3): Linear(in_features=64, out_features=5, bias=True)\n",
       "  )\n",
       ")"
      ]
     },
     "execution_count": 6,
     "metadata": {},
     "output_type": "execute_result"
    }
   ],
   "source": [
    "LSTM_model = LSTM_Module(\n",
    "    hours_lookback=6,  # adjust if different\n",
    "    input_dim=35,      # make sure it matches your input feature size\n",
    "    hidden_dim=128,\n",
    "    num_layers=1,\n",
    "    dropout=0.2\n",
    ")\n",
    "LSTM_model_path = r'LSTM/LSTM.pth'\n",
    "LSTM_model.load_state_dict(torch.load(LSTM_model_path, map_location=device))\n",
    "LSTM_model.to(device)\n",
    "LSTM_model.eval()"
   ]
  },
  {
   "cell_type": "code",
   "execution_count": 7,
   "id": "ec76915f",
   "metadata": {},
   "outputs": [
    {
     "name": "stdout",
     "output_type": "stream",
     "text": [
      "🔎 Evaluation Results for LSTM Model\n",
      "====================================\n",
      "✅ Accuracy : 0.93\n",
      "🎯 Precision: 0.4831\n",
      "🔁 Recall   : 0.1989\n",
      "📊 F1 Score : 0.2627\n"
     ]
    }
   ],
   "source": [
    "LSTM_results = evaluate_metrics(LSTM_dataloader,LSTM_model)"
   ]
  },
  {
   "cell_type": "code",
   "execution_count": 8,
   "id": "b7495c8e",
   "metadata": {},
   "outputs": [],
   "source": [
    "chosen_stations = ['S104', 'S107', 'S109', 'S115', 'S116', 'S43', 'S50']\n",
    "pixel_coords = [(4, 11, 'S109'),\n",
    " (2, 7, 'S50'),\n",
    " (1, 16, 'S107'),\n",
    " (2, 13, 'S43'),\n",
    " (0, 0, 'S115'),\n",
    " (0, 6, 'S116'),\n",
    " (8, 8, 'S104')]\n"
   ]
  },
  {
   "cell_type": "code",
   "execution_count": 9,
   "id": "37a90156",
   "metadata": {},
   "outputs": [
    {
     "data": {
      "text/plain": [
       "CNN_RNN_Module(\n",
       "  (conv1): Conv2d(5, 32, kernel_size=(5, 5), stride=(1, 1), padding=(1, 1))\n",
       "  (conv2): Conv2d(32, 64, kernel_size=(5, 5), stride=(1, 1), padding=(1, 1))\n",
       "  (conv3): Conv2d(64, 128, kernel_size=(3, 3), stride=(1, 1), padding=(1, 1))\n",
       "  (flatten): Flatten(start_dim=1, end_dim=-1)\n",
       "  (rnn): RNN(8960, 256, batch_first=True)\n",
       "  (fc): Linear(in_features=256, out_features=5, bias=True)\n",
       ")"
      ]
     },
     "execution_count": 9,
     "metadata": {},
     "output_type": "execute_result"
    }
   ],
   "source": [
    "from CNN_RNN import CNN_RNN_Dataset, CNN_RNN_Module\n",
    "CNN_RNN_dataset = CNN_RNN_Dataset(test_data,pixel_coords, reject_zeros=False)\n",
    "CNN_RNN_dataloader = DataLoader(CNN_RNN_dataset, batch_size=64, shuffle=True, generator=g)\n",
    "CNN_RNN_model = CNN_RNN_Module()\n",
    "CNN_RNN_model_path = r'CNN_RNN/CNN_RNN.pth'\n",
    "CNN_RNN_model.load_state_dict(torch.load(CNN_RNN_model_path, map_location=device))\n",
    "CNN_RNN_model.to(device)\n",
    "CNN_RNN_model.eval()\n"
   ]
  },
  {
   "cell_type": "code",
   "execution_count": 10,
   "id": "d82969c3",
   "metadata": {},
   "outputs": [
    {
     "name": "stdout",
     "output_type": "stream",
     "text": [
      "🔎 Evaluation Results for LSTM Model\n",
      "====================================\n",
      "✅ Accuracy : 0.94\n",
      "🎯 Precision: 0.5661\n",
      "🔁 Recall   : 0.3467\n",
      "📊 F1 Score : 0.4005\n"
     ]
    }
   ],
   "source": [
    "CNN_RNN_results = evaluate_metrics(CNN_RNN_dataloader,CNN_RNN_model)"
   ]
  },
  {
   "cell_type": "code",
   "execution_count": 11,
   "id": "159f5f82",
   "metadata": {},
   "outputs": [
    {
     "data": {
      "text/plain": [
       "deep_CNN_RNN_Module(\n",
       "  (cnn): Sequential(\n",
       "    (0): Conv2d(5, 32, kernel_size=(3, 3), stride=(1, 1), padding=(1, 1))\n",
       "    (1): BatchNorm2d(32, eps=1e-05, momentum=0.1, affine=True, track_running_stats=True)\n",
       "    (2): ReLU()\n",
       "    (3): MaxPool2d(kernel_size=2, stride=2, padding=0, dilation=1, ceil_mode=False)\n",
       "    (4): Conv2d(32, 64, kernel_size=(3, 3), stride=(1, 1), padding=(1, 1))\n",
       "    (5): BatchNorm2d(64, eps=1e-05, momentum=0.1, affine=True, track_running_stats=True)\n",
       "    (6): ReLU()\n",
       "    (7): MaxPool2d(kernel_size=2, stride=2, padding=0, dilation=1, ceil_mode=False)\n",
       "    (8): Conv2d(64, 128, kernel_size=(3, 3), stride=(1, 1), padding=(1, 1))\n",
       "    (9): BatchNorm2d(128, eps=1e-05, momentum=0.1, affine=True, track_running_stats=True)\n",
       "    (10): ReLU()\n",
       "    (11): AdaptiveAvgPool2d(output_size=(1, 1))\n",
       "    (12): Dropout(p=0.3, inplace=False)\n",
       "  )\n",
       "  (flatten): Flatten(start_dim=1, end_dim=-1)\n",
       "  (rnn): RNN(128, 256, batch_first=True)\n",
       "  (fc): Sequential(\n",
       "    (0): Linear(in_features=256, out_features=128, bias=True)\n",
       "    (1): ReLU()\n",
       "    (2): Dropout(p=0.3, inplace=False)\n",
       "    (3): Linear(in_features=128, out_features=5, bias=True)\n",
       "  )\n",
       ")"
      ]
     },
     "execution_count": 11,
     "metadata": {},
     "output_type": "execute_result"
    }
   ],
   "source": [
    "from deep_CNN_RNN import deep_CNN_RNN_Dataset, deep_CNN_RNN_Module\n",
    "deep_CNN_RNN_dataset = deep_CNN_RNN_Dataset(test_data, reject_zeros=False)\n",
    "deep_CNN_RNN_dataloader = DataLoader(deep_CNN_RNN_dataset, batch_size=64, shuffle=True, generator=g)\n",
    "deep_CNN_RNN_model = deep_CNN_RNN_Module()\n",
    "deep_CNN_RNN_model_path = r'deep_CNN_RNN/deep_CNN_RNN.pth'\n",
    "deep_CNN_RNN_model.load_state_dict(torch.load(deep_CNN_RNN_model_path, map_location=device))\n",
    "deep_CNN_RNN_model.to(device)\n",
    "deep_CNN_RNN_model.eval()\n"
   ]
  },
  {
   "cell_type": "code",
   "execution_count": 12,
   "id": "401e864d",
   "metadata": {},
   "outputs": [
    {
     "name": "stdout",
     "output_type": "stream",
     "text": [
      "🔎 Evaluation Results for LSTM Model\n",
      "====================================\n",
      "✅ Accuracy : 0.93\n",
      "🎯 Precision: 0.4540\n",
      "🔁 Recall   : 0.3840\n",
      "📊 F1 Score : 0.3980\n"
     ]
    }
   ],
   "source": [
    "deep_CNN_RNN_results = evaluate_metrics(deep_CNN_RNN_dataloader,deep_CNN_RNN_model)"
   ]
  },
  {
   "cell_type": "code",
   "execution_count": 13,
   "id": "192de59f",
   "metadata": {},
   "outputs": [
    {
     "data": {
      "text/plain": [
       "CNN_LSTM_Module(\n",
       "  (conv1): Conv2d(5, 32, kernel_size=(5, 5), stride=(1, 1), padding=(1, 1))\n",
       "  (conv2): Conv2d(32, 64, kernel_size=(5, 5), stride=(1, 1), padding=(1, 1))\n",
       "  (conv3): Conv2d(64, 128, kernel_size=(3, 3), stride=(1, 1), padding=(1, 1))\n",
       "  (flatten): Flatten(start_dim=1, end_dim=-1)\n",
       "  (lstm): LSTM(8960, 256, batch_first=True)\n",
       "  (fc): Linear(in_features=256, out_features=5, bias=True)\n",
       ")"
      ]
     },
     "execution_count": 13,
     "metadata": {},
     "output_type": "execute_result"
    }
   ],
   "source": [
    "from CNN_LSTM import CNN_LSTM_Dataset, CNN_LSTM_Module\n",
    "CNN_LSTM_dataset = CNN_LSTM_Dataset(test_data, reject_zeros=False)\n",
    "CNN_LSTM_dataloader = DataLoader(CNN_LSTM_dataset, batch_size=64, shuffle=True, generator=g)\n",
    "CNN_LSTM_model = CNN_LSTM_Module()\n",
    "CNN_LSTM_model_path = r'CNN_LSTM/CNN_LSTM.pth'\n",
    "CNN_LSTM_model.load_state_dict(torch.load(CNN_LSTM_model_path, map_location=device))\n",
    "CNN_LSTM_model.to(device)\n",
    "CNN_LSTM_model.eval()\n"
   ]
  },
  {
   "cell_type": "code",
   "execution_count": 14,
   "id": "f1cfe66c",
   "metadata": {},
   "outputs": [
    {
     "name": "stdout",
     "output_type": "stream",
     "text": [
      "🔎 Evaluation Results for LSTM Model\n",
      "====================================\n",
      "✅ Accuracy : 0.94\n",
      "🎯 Precision: 0.5563\n",
      "🔁 Recall   : 0.3795\n",
      "📊 F1 Score : 0.4389\n"
     ]
    }
   ],
   "source": [
    "CNN_LSTM_results = evaluate_metrics(CNN_LSTM_dataloader,CNN_LSTM_model)"
   ]
  },
  {
   "cell_type": "code",
   "execution_count": 15,
   "id": "b1f2ce3a",
   "metadata": {},
   "outputs": [
    {
     "data": {
      "text/plain": [
       "CNN_LSTM_HR_Module(\n",
       "  (conv1): Conv2d(5, 32, kernel_size=(5, 5), stride=(1, 1), padding=(1, 1))\n",
       "  (conv2): Conv2d(32, 64, kernel_size=(5, 5), stride=(1, 1), padding=(1, 1))\n",
       "  (conv3): Conv2d(64, 128, kernel_size=(3, 3), stride=(1, 1), padding=(1, 1))\n",
       "  (flatten): Flatten(start_dim=1, end_dim=-1)\n",
       "  (lstm): LSTM(8960, 256, batch_first=True)\n",
       "  (fc): Linear(in_features=256, out_features=5, bias=True)\n",
       ")"
      ]
     },
     "execution_count": 15,
     "metadata": {},
     "output_type": "execute_result"
    }
   ],
   "source": [
    "from CNN_LSTM_HR import CNN_LSTM_HR_Dataset, CNN_LSTM_HR_Module\n",
    "CNN_LSTM_HR_dataset = CNN_LSTM_HR_Dataset(test_data, pixel_coords=pixel_coords, reject_zeros=False)\n",
    "CNN_LSTM_HR_dataloader = DataLoader(CNN_LSTM_HR_dataset, batch_size=64, shuffle=True, generator=g)\n",
    "CNN_LSTM_HR_model = CNN_LSTM_HR_Module()\n",
    "CNN_LSTM_HR_model_path = r'CNN_LSTM_HR/CNN_LSTM_HR.pth'\n",
    "CNN_LSTM_HR_model.load_state_dict(torch.load(CNN_LSTM_HR_model_path, map_location=device))\n",
    "CNN_LSTM_HR_model.to(device)\n",
    "CNN_LSTM_HR_model.eval()"
   ]
  },
  {
   "cell_type": "code",
   "execution_count": 16,
   "id": "5cb29f94",
   "metadata": {},
   "outputs": [
    {
     "name": "stdout",
     "output_type": "stream",
     "text": [
      "🔎 Evaluation Results for LSTM Model\n",
      "====================================\n",
      "✅ Accuracy : 0.90\n",
      "🎯 Precision: 0.2976\n",
      "🔁 Recall   : 0.2426\n",
      "📊 F1 Score : 0.2614\n"
     ]
    }
   ],
   "source": [
    "CNN_LSTM_HR_results = evaluate_metrics(CNN_LSTM_HR_dataloader,CNN_LSTM_HR_model)"
   ]
  },
  {
   "cell_type": "code",
   "execution_count": 17,
   "id": "710ba549",
   "metadata": {},
   "outputs": [
    {
     "data": {
      "text/plain": [
       "CNN_GRU_Module(\n",
       "  (conv1): Conv2d(5, 32, kernel_size=(5, 5), stride=(1, 1), padding=(1, 1))\n",
       "  (conv2): Conv2d(32, 64, kernel_size=(5, 5), stride=(1, 1), padding=(1, 1))\n",
       "  (conv3): Conv2d(64, 128, kernel_size=(3, 3), stride=(1, 1), padding=(1, 1))\n",
       "  (flatten): Flatten(start_dim=1, end_dim=-1)\n",
       "  (bn_in): BatchNorm1d(8960, eps=1e-05, momentum=0.1, affine=True, track_running_stats=True)\n",
       "  (gru): GRU(8960, 512, num_layers=2, batch_first=True, dropout=0.3, bidirectional=True)\n",
       "  (fc): Linear(in_features=1024, out_features=5, bias=True)\n",
       ")"
      ]
     },
     "execution_count": 17,
     "metadata": {},
     "output_type": "execute_result"
    }
   ],
   "source": [
    "from CNN_GRU import CNN_GRU_Dataset, CNN_GRU_Module\n",
    "CNN_GRU_dataset = CNN_GRU_Dataset(test_data,reject_zeros=False)\n",
    "CNN_GRU_dataloader = DataLoader(CNN_GRU_dataset, batch_size=64, shuffle=True, generator=g)\n",
    "CNN_GRU_model = CNN_GRU_Module()\n",
    "CNN_GRU_model_path = r'CNN_GRU/CNN_GRU.pth'\n",
    "CNN_GRU_model.load_state_dict(torch.load(CNN_GRU_model_path, map_location=device))\n",
    "CNN_GRU_model.to(device)\n",
    "CNN_GRU_model.eval()\n"
   ]
  },
  {
   "cell_type": "code",
   "execution_count": 18,
   "id": "7c7dc4dc",
   "metadata": {},
   "outputs": [
    {
     "name": "stdout",
     "output_type": "stream",
     "text": [
      "🔎 Evaluation Results for LSTM Model\n",
      "====================================\n",
      "✅ Accuracy : 0.70\n",
      "🎯 Precision: 0.2034\n",
      "🔁 Recall   : 0.6321\n",
      "📊 F1 Score : 0.2905\n"
     ]
    }
   ],
   "source": [
    "CNN_GRU_results = evaluate_metrics(CNN_GRU_dataloader,CNN_GRU_model)"
   ]
  },
  {
   "cell_type": "code",
   "execution_count": 19,
   "id": "f5d351eb",
   "metadata": {},
   "outputs": [],
   "source": [
    "compiled_results = [LSTM_results,CNN_RNN_results,deep_CNN_RNN_results,CNN_LSTM_results,CNN_LSTM_HR_results,CNN_GRU_results]"
   ]
  },
  {
   "cell_type": "code",
   "execution_count": 20,
   "id": "aca17644",
   "metadata": {},
   "outputs": [],
   "source": [
    "def plot_accuracy_f1(compiled_results, model_names):\n",
    "    metrics = ['Accuracy', 'F1 Score']\n",
    "    n_models = len(compiled_results)\n",
    "\n",
    "    # Extract only Accuracy and F1 from each result (index 0 and 3)\n",
    "    selected_metrics = [(res[0], res[3]) for res in compiled_results]  # (Accuracy, F1)\n",
    "    \n",
    "    # Sort models by Accuracy\n",
    "    sorted_data = sorted(zip(model_names, selected_metrics), key=lambda x: x[1][0], reverse=True)\n",
    "    sorted_names, sorted_metrics = zip(*sorted_data)\n",
    "    \n",
    "    accuracy_scores, f1_scores = zip(*sorted_metrics)\n",
    "    x = np.arange(n_models)\n",
    "    width = 0.35\n",
    "\n",
    "    fig, ax = plt.subplots(figsize=(12, 6))\n",
    "    bars1 = ax.bar(x - width/2, accuracy_scores, width, label='Accuracy')\n",
    "    bars2 = ax.bar(x + width/2, f1_scores, width, label='F1 Score')\n",
    "\n",
    "    # Add text on top of bars\n",
    "    for bar in bars1:\n",
    "        height = bar.get_height()\n",
    "        ax.text(bar.get_x() + bar.get_width()/2, height + 0.01, f'{height:.4f}', ha='center', va='bottom', fontsize=9)\n",
    "\n",
    "    for bar in bars2:\n",
    "        height = bar.get_height()\n",
    "        ax.text(bar.get_x() + bar.get_width()/2, height + 0.01, f'{height:.4f}', ha='center', va='bottom', fontsize=9)\n",
    "\n",
    "    ax.set_ylabel('Score')\n",
    "    ax.set_title('Model Accuracy and F1 Score (Sorted by Accuracy)')\n",
    "    ax.set_xticks(x)\n",
    "    ax.set_xticklabels(sorted_names, rotation=45, ha='right')\n",
    "    ax.set_ylim(0, 1.1)\n",
    "    ax.legend()\n",
    "    ax.grid(True, linestyle='--', alpha=0.6)\n",
    "\n",
    "    plt.tight_layout()\n",
    "    plt.show()\n"
   ]
  },
  {
   "cell_type": "code",
   "execution_count": 21,
   "id": "278c87b7",
   "metadata": {},
   "outputs": [],
   "source": [
    "model_names = [\n",
    "    'LSTM',\n",
    "    'CNN_RNN',\n",
    "    'deep_CNN_RNN',\n",
    "    'CNN_LSTM',\n",
    "    'CNN_LSTM_HR',\n",
    "    'CNN_GRU'\n",
    "]\n"
   ]
  },
  {
   "cell_type": "code",
   "execution_count": 22,
   "id": "5eb156c5",
   "metadata": {},
   "outputs": [
    {
     "data": {
      "image/png": "[encoded data removed]",
      "text/plain": [
       "<Figure size 1200x600 with 1 Axes>"
      ]
     },
     "metadata": {},
     "output_type": "display_data"
    }
   ],
   "source": [
    "plot_accuracy_f1(compiled_results,model_names)"
   ]
  }
 ],
 "metadata": {
  "kernelspec": {
   "display_name": "Python 3",
   "language": "python",
   "name": "python3"
  },
  "language_info": {
   "codemirror_mode": {
    "name": "ipython",
    "version": 3
   },
   "file_extension": ".py",
   "mimetype": "text/x-python",
   "name": "python",
   "nbconvert_exporter": "python",
   "pygments_lexer": "ipython3",
   "version": "3.13.3"
  }
 },
 "nbformat": 4,
 "nbformat_minor": 5
}

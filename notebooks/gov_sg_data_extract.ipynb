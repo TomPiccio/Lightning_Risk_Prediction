{
 "cells": [
  {
   "cell_type": "code",
   "execution_count": 1,
   "id": "320ba075",
   "metadata": {},
   "outputs": [],
   "source": [
    "import requests\n",
    "import pandas as pd\n",
    "import os\n",
    "from datetime import datetime, timedelta\n",
    "from tqdm.notebook import tqdm  # Use tqdm from the notebook module\n",
    "import asyncio\n",
    "import aiohttp"
   ]
  },
  {
   "cell_type": "code",
   "execution_count": 2,
   "id": "85f91458",
   "metadata": {},
   "outputs": [],
   "source": [
    "def get_data(date_time, data_set_name):\n",
    "    base_url = f\"https://api-open.data.gov.sg/v2/real-time/api/{data_set_name}?date={date_time}\"\n",
    "    all_data = []\n",
    "\n",
    "    while True:\n",
    "        response = requests.get(base_url)\n",
    "        data = response.json().get('data', {})\n",
    "        readings = data.get('readings', [])\n",
    "\n",
    "        if readings:\n",
    "            for reading in readings:\n",
    "                reading_data = reading.get('data', [])\n",
    "                for entry in reading_data:\n",
    "                    entry['Timestamp'] = reading.get('timestamp')  # Add Timestamp for each entry\n",
    "                    all_data.append(entry)\n",
    "        else:\n",
    "            break  # No readings, exit loop\n",
    "\n",
    "        # Check for paginationToken and update URL\n",
    "        pagination_token = data.get('paginationToken')\n",
    "        if pagination_token:\n",
    "            base_url = f\"https://api-open.data.gov.sg/v2/real-time/api/{data_set_name}?date={date_time}&paginationToken={pagination_token}\"\n",
    "        else:\n",
    "            break  # No more pages\n",
    "    df = pd.DataFrame(all_data)\n",
    "    # Concatenate all pivot tables\n",
    "    if not df.empty:\n",
    "        pivot_table = df.pivot_table(index='Timestamp', columns='stationId', values='value', aggfunc='first')\n",
    "        return pivot_table\n",
    "    else:\n",
    "        return pd.DataFrame()"
   ]
  },
  {
   "cell_type": "code",
   "execution_count": 3,
   "id": "e54c409f",
   "metadata": {},
   "outputs": [
    {
     "data": {
      "text/html": [
       "<div>\n",
       "<style scoped>\n",
       "    .dataframe tbody tr th:only-of-type {\n",
       "        vertical-align: middle;\n",
       "    }\n",
       "\n",
       "    .dataframe tbody tr th {\n",
       "        vertical-align: top;\n",
       "    }\n",
       "\n",
       "    .dataframe thead th {\n",
       "        text-align: right;\n",
       "    }\n",
       "</style>\n",
       "<table border=\"1\" class=\"dataframe\">\n",
       "  <thead>\n",
       "    <tr style=\"text-align: right;\">\n",
       "      <th>stationId</th>\n",
       "      <th>S07</th>\n",
       "      <th>S08</th>\n",
       "      <th>S100</th>\n",
       "      <th>S104</th>\n",
       "      <th>S106</th>\n",
       "      <th>S107</th>\n",
       "      <th>S108</th>\n",
       "      <th>S109</th>\n",
       "      <th>S11</th>\n",
       "      <th>S111</th>\n",
       "      <th>...</th>\n",
       "      <th>S81</th>\n",
       "      <th>S82</th>\n",
       "      <th>S84</th>\n",
       "      <th>S88</th>\n",
       "      <th>S89</th>\n",
       "      <th>S90</th>\n",
       "      <th>S900</th>\n",
       "      <th>S91</th>\n",
       "      <th>S92</th>\n",
       "      <th>S94</th>\n",
       "    </tr>\n",
       "    <tr>\n",
       "      <th>Timestamp</th>\n",
       "      <th></th>\n",
       "      <th></th>\n",
       "      <th></th>\n",
       "      <th></th>\n",
       "      <th></th>\n",
       "      <th></th>\n",
       "      <th></th>\n",
       "      <th></th>\n",
       "      <th></th>\n",
       "      <th></th>\n",
       "      <th></th>\n",
       "      <th></th>\n",
       "      <th></th>\n",
       "      <th></th>\n",
       "      <th></th>\n",
       "      <th></th>\n",
       "      <th></th>\n",
       "      <th></th>\n",
       "      <th></th>\n",
       "      <th></th>\n",
       "      <th></th>\n",
       "    </tr>\n",
       "  </thead>\n",
       "  <tbody>\n",
       "    <tr>\n",
       "      <th>2020-04-20T00:00:00+08:00</th>\n",
       "      <td>0.0</td>\n",
       "      <td>0.0</td>\n",
       "      <td>0.0</td>\n",
       "      <td>0.0</td>\n",
       "      <td>0.0</td>\n",
       "      <td>0.0</td>\n",
       "      <td>0.0</td>\n",
       "      <td>0.0</td>\n",
       "      <td>0.0</td>\n",
       "      <td>0.0</td>\n",
       "      <td>...</td>\n",
       "      <td>0.0</td>\n",
       "      <td>0.0</td>\n",
       "      <td>0.0</td>\n",
       "      <td>0.0</td>\n",
       "      <td>0.0</td>\n",
       "      <td>0.0</td>\n",
       "      <td>0.0</td>\n",
       "      <td>0.0</td>\n",
       "      <td>0.0</td>\n",
       "      <td>0.0</td>\n",
       "    </tr>\n",
       "    <tr>\n",
       "      <th>2020-04-20T00:05:00+08:00</th>\n",
       "      <td>0.0</td>\n",
       "      <td>0.0</td>\n",
       "      <td>0.0</td>\n",
       "      <td>0.0</td>\n",
       "      <td>0.0</td>\n",
       "      <td>0.0</td>\n",
       "      <td>0.0</td>\n",
       "      <td>0.0</td>\n",
       "      <td>0.0</td>\n",
       "      <td>0.0</td>\n",
       "      <td>...</td>\n",
       "      <td>0.0</td>\n",
       "      <td>0.0</td>\n",
       "      <td>0.0</td>\n",
       "      <td>0.0</td>\n",
       "      <td>0.0</td>\n",
       "      <td>0.0</td>\n",
       "      <td>0.0</td>\n",
       "      <td>0.0</td>\n",
       "      <td>0.0</td>\n",
       "      <td>0.0</td>\n",
       "    </tr>\n",
       "    <tr>\n",
       "      <th>2020-04-20T00:10:00+08:00</th>\n",
       "      <td>0.0</td>\n",
       "      <td>0.0</td>\n",
       "      <td>0.0</td>\n",
       "      <td>0.0</td>\n",
       "      <td>0.0</td>\n",
       "      <td>0.0</td>\n",
       "      <td>0.0</td>\n",
       "      <td>0.0</td>\n",
       "      <td>0.0</td>\n",
       "      <td>0.0</td>\n",
       "      <td>...</td>\n",
       "      <td>0.0</td>\n",
       "      <td>0.0</td>\n",
       "      <td>0.0</td>\n",
       "      <td>0.0</td>\n",
       "      <td>0.0</td>\n",
       "      <td>0.0</td>\n",
       "      <td>0.0</td>\n",
       "      <td>0.0</td>\n",
       "      <td>0.0</td>\n",
       "      <td>0.0</td>\n",
       "    </tr>\n",
       "    <tr>\n",
       "      <th>2020-04-20T00:15:00+08:00</th>\n",
       "      <td>0.0</td>\n",
       "      <td>0.0</td>\n",
       "      <td>0.0</td>\n",
       "      <td>0.0</td>\n",
       "      <td>0.0</td>\n",
       "      <td>0.0</td>\n",
       "      <td>0.0</td>\n",
       "      <td>0.0</td>\n",
       "      <td>0.0</td>\n",
       "      <td>0.0</td>\n",
       "      <td>...</td>\n",
       "      <td>0.0</td>\n",
       "      <td>0.0</td>\n",
       "      <td>0.0</td>\n",
       "      <td>0.0</td>\n",
       "      <td>0.0</td>\n",
       "      <td>0.0</td>\n",
       "      <td>0.0</td>\n",
       "      <td>0.0</td>\n",
       "      <td>0.0</td>\n",
       "      <td>0.0</td>\n",
       "    </tr>\n",
       "    <tr>\n",
       "      <th>2020-04-20T00:20:00+08:00</th>\n",
       "      <td>0.0</td>\n",
       "      <td>0.0</td>\n",
       "      <td>0.0</td>\n",
       "      <td>0.0</td>\n",
       "      <td>0.0</td>\n",
       "      <td>0.0</td>\n",
       "      <td>0.0</td>\n",
       "      <td>0.0</td>\n",
       "      <td>0.0</td>\n",
       "      <td>0.0</td>\n",
       "      <td>...</td>\n",
       "      <td>0.0</td>\n",
       "      <td>0.0</td>\n",
       "      <td>0.0</td>\n",
       "      <td>0.0</td>\n",
       "      <td>0.0</td>\n",
       "      <td>0.0</td>\n",
       "      <td>0.0</td>\n",
       "      <td>0.0</td>\n",
       "      <td>0.0</td>\n",
       "      <td>0.0</td>\n",
       "    </tr>\n",
       "  </tbody>\n",
       "</table>\n",
       "<p>5 rows × 50 columns</p>\n",
       "</div>"
      ],
      "text/plain": [
       "stationId                  S07  S08  S100  S104  S106  S107  S108  S109  S11  \\\n",
       "Timestamp                                                                      \n",
       "2020-04-20T00:00:00+08:00  0.0  0.0   0.0   0.0   0.0   0.0   0.0   0.0  0.0   \n",
       "2020-04-20T00:05:00+08:00  0.0  0.0   0.0   0.0   0.0   0.0   0.0   0.0  0.0   \n",
       "2020-04-20T00:10:00+08:00  0.0  0.0   0.0   0.0   0.0   0.0   0.0   0.0  0.0   \n",
       "2020-04-20T00:15:00+08:00  0.0  0.0   0.0   0.0   0.0   0.0   0.0   0.0  0.0   \n",
       "2020-04-20T00:20:00+08:00  0.0  0.0   0.0   0.0   0.0   0.0   0.0   0.0  0.0   \n",
       "\n",
       "stationId                  S111  ...  S81  S82  S84  S88  S89  S90  S900  S91  \\\n",
       "Timestamp                        ...                                            \n",
       "2020-04-20T00:00:00+08:00   0.0  ...  0.0  0.0  0.0  0.0  0.0  0.0   0.0  0.0   \n",
       "2020-04-20T00:05:00+08:00   0.0  ...  0.0  0.0  0.0  0.0  0.0  0.0   0.0  0.0   \n",
       "2020-04-20T00:10:00+08:00   0.0  ...  0.0  0.0  0.0  0.0  0.0  0.0   0.0  0.0   \n",
       "2020-04-20T00:15:00+08:00   0.0  ...  0.0  0.0  0.0  0.0  0.0  0.0   0.0  0.0   \n",
       "2020-04-20T00:20:00+08:00   0.0  ...  0.0  0.0  0.0  0.0  0.0  0.0   0.0  0.0   \n",
       "\n",
       "stationId                  S92  S94  \n",
       "Timestamp                            \n",
       "2020-04-20T00:00:00+08:00  0.0  0.0  \n",
       "2020-04-20T00:05:00+08:00  0.0  0.0  \n",
       "2020-04-20T00:10:00+08:00  0.0  0.0  \n",
       "2020-04-20T00:15:00+08:00  0.0  0.0  \n",
       "2020-04-20T00:20:00+08:00  0.0  0.0  \n",
       "\n",
       "[5 rows x 50 columns]"
      ]
     },
     "execution_count": 3,
     "metadata": {},
     "output_type": "execute_result"
    }
   ],
   "source": [
    "# Example usage\n",
    "df = get_data('2020-04-20',\"rainfall\")\n",
    "df.head()"
   ]
  },
  {
   "cell_type": "code",
   "execution_count": 9,
   "id": "ed0f68c7",
   "metadata": {},
   "outputs": [],
   "source": [
    "async def get_data_async(date_time, data_set_name, session):\n",
    "    base_url = f\"https://api-open.data.gov.sg/v2/real-time/api/{data_set_name}?date={date_time}\"\n",
    "    all_data = []\n",
    "\n",
    "    while True:\n",
    "        # Asynchronously fetch the data\n",
    "        async with session.get(base_url) as response:\n",
    "            data = await response.json()\n",
    "            readings = data.get('data', {}).get('readings', [])\n",
    "\n",
    "            if readings:\n",
    "                for reading in readings:\n",
    "                    reading_data = reading.get('data', [])\n",
    "                    for entry in reading_data:\n",
    "                        entry['Timestamp'] = reading.get('timestamp')  # Add Timestamp for each entry\n",
    "                        all_data.append(entry)\n",
    "            else:\n",
    "                break  # No readings, exit loop\n",
    "\n",
    "            # Check for paginationToken and update URL for next request\n",
    "            pagination_token = data.get('data', {}).get('paginationToken')\n",
    "            if pagination_token:\n",
    "                base_url = f\"https://api-open.data.gov.sg/v2/real-time/api/{data_set_name}?date={date_time}&paginationToken={pagination_token}\"\n",
    "            else:\n",
    "                break  # No more pages\n",
    "\n",
    "    # Convert the collected data into a DataFrame\n",
    "    df = pd.DataFrame(all_data)\n",
    "\n",
    "    # Pivot table if data is available\n",
    "    if not df.empty:\n",
    "        pivot_table = df.pivot_table(index='Timestamp', columns='stationId', values='value', aggfunc='first')\n",
    "        return pivot_table\n",
    "    else:\n",
    "        return pd.DataFrame()  # Return empty DataFrame if no data\n",
    "\n",
    "async def download_range(start_date, end_date, data_set_name):\n",
    "    save_dir = f'../data/data_gov_sg/{data_set_name}_data'\n",
    "    os.makedirs(save_dir, exist_ok=True)\n",
    "\n",
    "    start_dt = datetime.strptime(start_date, \"%Y-%m-%d\")\n",
    "    end_dt = datetime.strptime(end_date, \"%Y-%m-%d\")\n",
    "    current_dt = start_dt\n",
    "    all_data = []\n",
    "    current_month = None\n",
    "\n",
    "    total_days = (end_dt - start_dt).days + 1  # Make sure to include the last day\n",
    "    async with aiohttp.ClientSession() as session:  # Initialize aiohttp session\n",
    "        with tqdm(total=total_days) as pbar:\n",
    "            while current_dt <= end_dt:\n",
    "                timestamp_str = current_dt.strftime(\"%Y-%m-%d\")\n",
    "\n",
    "                # Save and reset at month boundary\n",
    "                next_month = current_dt.strftime(\"%Y-%m\")\n",
    "                if current_month and next_month != current_month:\n",
    "                    combined = pd.concat(all_data)\n",
    "                    combined.to_csv(f\"{save_dir}/{data_set_name}_{current_month}.csv\")\n",
    "                    all_data = []\n",
    "                current_month = next_month\n",
    "                try:\n",
    "                    df = await get_data_async(timestamp_str, data_set_name, session)\n",
    "                    if not df.empty:\n",
    "                        all_data.append(df)\n",
    "                except Exception as e:\n",
    "                    print(\"Error\",timestamp_str,e,\"Retrying...\")\n",
    "                    await asyncio.sleep(5)\n",
    "                    try:\n",
    "                        df = await get_data_async(timestamp_str, data_set_name, session)\n",
    "                        if not df.empty:\n",
    "                            all_data.append(df)\n",
    "                    except Exception as e2:\n",
    "                        print(\"Failed\",timestamp_str,e2)\n",
    "                        await asyncio.sleep(8)\n",
    "                current_dt += timedelta(days=1)  # Increment day by 1\n",
    "                pbar.update(1)  # Update progress bar\n",
    "\n",
    "                await asyncio.sleep(2)  # Introduce 2-second delay between requests\n",
    "\n",
    "        # Save remaining data after final loop\n",
    "        if all_data:\n",
    "            combined = pd.concat(all_data)\n",
    "            combined.to_csv(f\"{save_dir}/{data_set_name}_{current_month}.csv\")\n"
   ]
  },
  {
   "cell_type": "code",
   "execution_count": 5,
   "id": "2b6602be",
   "metadata": {},
   "outputs": [
    {
     "data": {
      "application/vnd.jupyter.widget-view+json": {
       "model_id": "d270aa745c894674882787d3b78309ff",
       "version_major": 2,
       "version_minor": 0
      },
      "text/plain": [
       "  0%|          | 0/42 [00:00<?, ?it/s]"
      ]
     },
     "metadata": {},
     "output_type": "display_data"
    }
   ],
   "source": [
    "await download_range(\"2020-04-20\", \"2020-05-31\", \"rainfall\")"
   ]
  },
  {
   "cell_type": "code",
   "execution_count": null,
   "id": "346f8153",
   "metadata": {},
   "outputs": [
    {
     "data": {
      "application/vnd.jupyter.widget-view+json": {
       "model_id": "1dd27a5f4efb4b58992439468d48dd59",
       "version_major": 2,
       "version_minor": 0
      },
      "text/plain": [
       "  0%|          | 0/214 [00:00<?, ?it/s]"
      ]
     },
     "metadata": {},
     "output_type": "display_data"
    },
    {
     "name": "stdout",
     "output_type": "stream",
     "text": [
      "Error 'NoneType' object has no attribute 'get' Retrying...\n",
      "Failed 'NoneType' object has no attribute 'get'\n",
      "Error 'NoneType' object has no attribute 'get' Retrying...\n",
      "Failed 'NoneType' object has no attribute 'get'\n",
      "Error 'NoneType' object has no attribute 'get' Retrying...\n"
     ]
    }
   ],
   "source": [
    "await download_range(\"2020-06-01\", \"2020-12-31\", \"rainfall\")"
   ]
  },
  {
   "cell_type": "code",
   "execution_count": 11,
   "id": "acf5cea8",
   "metadata": {},
   "outputs": [
    {
     "data": {
      "application/vnd.jupyter.widget-view+json": {
       "model_id": "e47295b5f7c64a73b4ce891b55084f31",
       "version_major": 2,
       "version_minor": 0
      },
      "text/plain": [
       "  0%|          | 0/365 [00:00<?, ?it/s]"
      ]
     },
     "metadata": {},
     "output_type": "display_data"
    },
    {
     "name": "stdout",
     "output_type": "stream",
     "text": [
      "Error 2021-01-02 'NoneType' object has no attribute 'get' Retrying...\n",
      "Failed 2021-01-02 'NoneType' object has no attribute 'get'\n",
      "Error 2021-01-03 'NoneType' object has no attribute 'get' Retrying...\n",
      "Failed 2021-01-03 'NoneType' object has no attribute 'get'\n",
      "Error 2021-01-04 'NoneType' object has no attribute 'get' Retrying...\n",
      "Failed 2021-01-04 'NoneType' object has no attribute 'get'\n"
     ]
    }
   ],
   "source": [
    "await download_range(\"2021-01-01\", \"2021-12-31\", \"rainfall\")"
   ]
  },
  {
   "cell_type": "code",
   "execution_count": 12,
   "id": "8bfcffd0",
   "metadata": {},
   "outputs": [
    {
     "data": {
      "application/vnd.jupyter.widget-view+json": {
       "model_id": "f533838f52944ac29ea8283fc31ffbdc",
       "version_major": 2,
       "version_minor": 0
      },
      "text/plain": [
       "  0%|          | 0/365 [00:00<?, ?it/s]"
      ]
     },
     "metadata": {},
     "output_type": "display_data"
    }
   ],
   "source": [
    "await download_range(\"2022-01-01\", \"2022-12-31\", \"rainfall\")"
   ]
  },
  {
   "cell_type": "code",
   "execution_count": 13,
   "id": "c4d012a6",
   "metadata": {},
   "outputs": [
    {
     "data": {
      "application/vnd.jupyter.widget-view+json": {
       "model_id": "7264a5a83c5e4254beccc0d8ee83783d",
       "version_major": 2,
       "version_minor": 0
      },
      "text/plain": [
       "  0%|          | 0/365 [00:00<?, ?it/s]"
      ]
     },
     "metadata": {},
     "output_type": "display_data"
    },
    {
     "name": "stdout",
     "output_type": "stream",
     "text": [
      "Error 2023-01-02 'NoneType' object has no attribute 'get' Retrying...\n",
      "Failed 2023-01-02 'NoneType' object has no attribute 'get'\n",
      "Error 2023-01-03 'NoneType' object has no attribute 'get' Retrying...\n",
      "Failed 2023-01-03 'NoneType' object has no attribute 'get'\n",
      "Error 2023-01-04 'NoneType' object has no attribute 'get' Retrying...\n",
      "Failed 2023-01-04 'NoneType' object has no attribute 'get'\n",
      "Error 2023-01-05 'NoneType' object has no attribute 'get' Retrying...\n",
      "Failed 2023-01-05 'NoneType' object has no attribute 'get'\n",
      "Error 2023-01-06 'NoneType' object has no attribute 'get' Retrying...\n",
      "Failed 2023-01-06 'NoneType' object has no attribute 'get'\n",
      "Error 2023-01-07 'NoneType' object has no attribute 'get' Retrying...\n",
      "Failed 2023-01-07 'NoneType' object has no attribute 'get'\n",
      "Error 2023-01-08 'NoneType' object has no attribute 'get' Retrying...\n",
      "Failed 2023-01-08 'NoneType' object has no attribute 'get'\n",
      "Error 2023-01-09 'NoneType' object has no attribute 'get' Retrying...\n",
      "Failed 2023-01-09 'NoneType' object has no attribute 'get'\n"
     ]
    }
   ],
   "source": [
    "await download_range(\"2023-01-01\", \"2023-12-31\", \"rainfall\")"
   ]
  },
  {
   "cell_type": "code",
   "execution_count": 14,
   "id": "47045103",
   "metadata": {},
   "outputs": [
    {
     "data": {
      "application/vnd.jupyter.widget-view+json": {
       "model_id": "4793282c2b50442f85d9a1b879ee28a5",
       "version_major": 2,
       "version_minor": 0
      },
      "text/plain": [
       "  0%|          | 0/366 [00:00<?, ?it/s]"
      ]
     },
     "metadata": {},
     "output_type": "display_data"
    }
   ],
   "source": [
    "await download_range(\"2024-01-01\", \"2024-12-31\", \"rainfall\")"
   ]
  },
  {
   "cell_type": "code",
   "execution_count": 15,
   "id": "a4f7108b",
   "metadata": {},
   "outputs": [
    {
     "data": {
      "application/vnd.jupyter.widget-view+json": {
       "model_id": "6b1bc8272d374798a660f7878cf4e4e6",
       "version_major": 2,
       "version_minor": 0
      },
      "text/plain": [
       "  0%|          | 0/48 [00:00<?, ?it/s]"
      ]
     },
     "metadata": {},
     "output_type": "display_data"
    }
   ],
   "source": [
    "await download_range(\"2025-01-01\", \"2025-02-17\", \"rainfall\")"
   ]
  },
  {
   "cell_type": "code",
   "execution_count": 16,
   "id": "1d7198d6",
   "metadata": {},
   "outputs": [
    {
     "data": {
      "application/vnd.jupyter.widget-view+json": {
       "model_id": "9dc02ccbcf68424aaabde093cae5869e",
       "version_major": 2,
       "version_minor": 0
      },
      "text/plain": [
       "  0%|          | 0/275 [00:00<?, ?it/s]"
      ]
     },
     "metadata": {},
     "output_type": "display_data"
    },
    {
     "name": "stdout",
     "output_type": "stream",
     "text": [
      "Error 2020-06-09 'NoneType' object has no attribute 'get' Retrying...\n",
      "Failed 2020-06-09 'NoneType' object has no attribute 'get'\n",
      "Error 2020-06-10 'NoneType' object has no attribute 'get' Retrying...\n",
      "Failed 2020-06-10 'NoneType' object has no attribute 'get'\n"
     ]
    }
   ],
   "source": [
    "await download_range(\"2020-04-01\", \"2020-12-31\", \"relative-humidity\")"
   ]
  },
  {
   "cell_type": "code",
   "execution_count": 17,
   "id": "b7897a52",
   "metadata": {},
   "outputs": [
    {
     "data": {
      "application/vnd.jupyter.widget-view+json": {
       "model_id": "0cf887636fb04db6808bb3a303cf07a6",
       "version_major": 2,
       "version_minor": 0
      },
      "text/plain": [
       "  0%|          | 0/365 [00:00<?, ?it/s]"
      ]
     },
     "metadata": {},
     "output_type": "display_data"
    },
    {
     "name": "stdout",
     "output_type": "stream",
     "text": [
      "Error 2021-01-02 'NoneType' object has no attribute 'get' Retrying...\n",
      "Failed 2021-01-02 'NoneType' object has no attribute 'get'\n",
      "Error 2021-01-03 'NoneType' object has no attribute 'get' Retrying...\n",
      "Failed 2021-01-03 'NoneType' object has no attribute 'get'\n",
      "Error 2021-01-04 'NoneType' object has no attribute 'get' Retrying...\n",
      "Failed 2021-01-04 'NoneType' object has no attribute 'get'\n"
     ]
    }
   ],
   "source": [
    "await download_range(\"2021-01-01\", \"2021-12-31\", \"relative-humidity\")"
   ]
  },
  {
   "cell_type": "code",
   "execution_count": 19,
   "id": "d89c4a94",
   "metadata": {},
   "outputs": [
    {
     "data": {
      "application/vnd.jupyter.widget-view+json": {
       "model_id": "21ac9e7b22d1435ab5e4c62ef3c3e699",
       "version_major": 2,
       "version_minor": 0
      },
      "text/plain": [
       "  0%|          | 0/365 [00:00<?, ?it/s]"
      ]
     },
     "metadata": {},
     "output_type": "display_data"
    }
   ],
   "source": [
    "await download_range(\"2022-01-01\", \"2022-12-31\", \"relative-humidity\")"
   ]
  },
  {
   "cell_type": "code",
   "execution_count": 20,
   "id": "cd85afd0",
   "metadata": {},
   "outputs": [
    {
     "data": {
      "application/vnd.jupyter.widget-view+json": {
       "model_id": "b220e895bad44827b82d95dbc09326b4",
       "version_major": 2,
       "version_minor": 0
      },
      "text/plain": [
       "  0%|          | 0/365 [00:00<?, ?it/s]"
      ]
     },
     "metadata": {},
     "output_type": "display_data"
    },
    {
     "name": "stdout",
     "output_type": "stream",
     "text": [
      "Error 2023-01-02 'NoneType' object has no attribute 'get' Retrying...\n",
      "Failed 2023-01-02 'NoneType' object has no attribute 'get'\n",
      "Error 2023-01-03 'NoneType' object has no attribute 'get' Retrying...\n",
      "Failed 2023-01-03 'NoneType' object has no attribute 'get'\n",
      "Error 2023-01-04 'NoneType' object has no attribute 'get' Retrying...\n",
      "Failed 2023-01-04 'NoneType' object has no attribute 'get'\n",
      "Error 2023-01-05 'NoneType' object has no attribute 'get' Retrying...\n",
      "Failed 2023-01-05 'NoneType' object has no attribute 'get'\n",
      "Error 2023-01-06 'NoneType' object has no attribute 'get' Retrying...\n",
      "Failed 2023-01-06 'NoneType' object has no attribute 'get'\n",
      "Error 2023-01-07 'NoneType' object has no attribute 'get' Retrying...\n",
      "Failed 2023-01-07 'NoneType' object has no attribute 'get'\n",
      "Error 2023-01-08 'NoneType' object has no attribute 'get' Retrying...\n",
      "Failed 2023-01-08 'NoneType' object has no attribute 'get'\n",
      "Error 2023-01-09 'NoneType' object has no attribute 'get' Retrying...\n",
      "Failed 2023-01-09 'NoneType' object has no attribute 'get'\n"
     ]
    }
   ],
   "source": [
    "await download_range(\"2023-01-01\", \"2023-12-31\", \"relative-humidity\")"
   ]
  },
  {
   "cell_type": "code",
   "execution_count": 21,
   "id": "f15e4a2f",
   "metadata": {},
   "outputs": [
    {
     "data": {
      "application/vnd.jupyter.widget-view+json": {
       "model_id": "e90b42eae0ff47e38fd8e20dac7cf791",
       "version_major": 2,
       "version_minor": 0
      },
      "text/plain": [
       "  0%|          | 0/366 [00:00<?, ?it/s]"
      ]
     },
     "metadata": {},
     "output_type": "display_data"
    },
    {
     "name": "stdout",
     "output_type": "stream",
     "text": [
      "Error 2024-03-15  Retrying...\n",
      "Error 2024-12-02 'NoneType' object has no attribute 'get' Retrying...\n"
     ]
    }
   ],
   "source": [
    "await download_range(\"2024-01-01\", \"2024-12-31\", \"relative-humidity\")"
   ]
  },
  {
   "cell_type": "code",
   "execution_count": 22,
   "id": "2bcd179e",
   "metadata": {},
   "outputs": [
    {
     "data": {
      "application/vnd.jupyter.widget-view+json": {
       "model_id": "cfa3bd4e224c4a73b1c7e24d9a81f8a5",
       "version_major": 2,
       "version_minor": 0
      },
      "text/plain": [
       "  0%|          | 0/107 [00:00<?, ?it/s]"
      ]
     },
     "metadata": {},
     "output_type": "display_data"
    },
    {
     "name": "stdout",
     "output_type": "stream",
     "text": [
      "Error 2025-04-08 'NoneType' object has no attribute 'get' Retrying...\n",
      "Failed 2025-04-08 'NoneType' object has no attribute 'get'\n",
      "Error 2025-04-09 'NoneType' object has no attribute 'get' Retrying...\n",
      "Failed 2025-04-09 'NoneType' object has no attribute 'get'\n",
      "Error 2025-04-10 'NoneType' object has no attribute 'get' Retrying...\n",
      "Failed 2025-04-10 'NoneType' object has no attribute 'get'\n",
      "Error 2025-04-11 'NoneType' object has no attribute 'get' Retrying...\n",
      "Failed 2025-04-11 'NoneType' object has no attribute 'get'\n",
      "Error 2025-04-12 'NoneType' object has no attribute 'get' Retrying...\n",
      "Failed 2025-04-12 'NoneType' object has no attribute 'get'\n",
      "Error 2025-04-13 'NoneType' object has no attribute 'get' Retrying...\n",
      "Failed 2025-04-13 'NoneType' object has no attribute 'get'\n",
      "Error 2025-04-14 'NoneType' object has no attribute 'get' Retrying...\n",
      "Failed 2025-04-14 'NoneType' object has no attribute 'get'\n",
      "Error 2025-04-15 'NoneType' object has no attribute 'get' Retrying...\n",
      "Failed 2025-04-15 'NoneType' object has no attribute 'get'\n",
      "Error 2025-04-16 'NoneType' object has no attribute 'get' Retrying...\n",
      "Failed 2025-04-16 'NoneType' object has no attribute 'get'\n",
      "Error 2025-04-17 'NoneType' object has no attribute 'get' Retrying...\n",
      "Failed 2025-04-17 'NoneType' object has no attribute 'get'\n"
     ]
    }
   ],
   "source": [
    "await download_range(\"2025-01-01\", \"2025-04-17\", \"relative-humidity\")"
   ]
  },
  {
   "cell_type": "code",
   "execution_count": null,
   "id": "b020f884",
   "metadata": {},
   "outputs": [],
   "source": [
    "await download_range(\"2020-04-01\", \"2020-12-31\", \"wind-speed\")"
   ]
  },
  {
   "cell_type": "code",
   "execution_count": null,
   "id": "67575840",
   "metadata": {},
   "outputs": [],
   "source": [
    "await download_range(\"2021-01-01\", \"2021-12-31\", \"wind-speed\")"
   ]
  },
  {
   "cell_type": "code",
   "execution_count": null,
   "id": "cb1e056e",
   "metadata": {},
   "outputs": [],
   "source": [
    "await download_range(\"2022-01-01\", \"2022-12-31\", \"wind-speed\")"
   ]
  },
  {
   "cell_type": "code",
   "execution_count": null,
   "id": "1b304326",
   "metadata": {},
   "outputs": [],
   "source": [
    "await download_range(\"2023-01-01\", \"2023-12-31\", \"wind-speed\")"
   ]
  },
  {
   "cell_type": "code",
   "execution_count": null,
   "id": "362e3f10",
   "metadata": {},
   "outputs": [],
   "source": [
    "await download_range(\"2024-01-01\", \"2024-12-31\", \"wind-speed\")"
   ]
  },
  {
   "cell_type": "code",
   "execution_count": null,
   "id": "a7d01e48",
   "metadata": {},
   "outputs": [],
   "source": [
    "await download_range(\"2025-01-01\", \"2025-02-17\", \"wind-speed\")"
   ]
  },
  {
   "cell_type": "code",
   "execution_count": 34,
   "id": "a1a95c7d",
   "metadata": {},
   "outputs": [
    {
     "data": {
      "application/vnd.jupyter.widget-view+json": {
       "model_id": "83299dd5f8fb4f23b2acce3a696acfe5",
       "version_major": 2,
       "version_minor": 0
      },
      "text/plain": [
       "  0%|          | 0/275 [00:00<?, ?it/s]"
      ]
     },
     "metadata": {},
     "output_type": "display_data"
    },
    {
     "name": "stdout",
     "output_type": "stream",
     "text": [
      "Error 2020-06-09 'NoneType' object has no attribute 'get' Retrying...\n",
      "Failed 2020-06-09 'NoneType' object has no attribute 'get'\n",
      "Error 2020-06-10 'NoneType' object has no attribute 'get' Retrying...\n",
      "Failed 2020-06-10 'NoneType' object has no attribute 'get'\n"
     ]
    }
   ],
   "source": [
    "await download_range(\"2020-04-01\", \"2020-12-31\", \"air-temperature\")"
   ]
  },
  {
   "cell_type": "code",
   "execution_count": 33,
   "id": "092933b4",
   "metadata": {},
   "outputs": [
    {
     "data": {
      "application/vnd.jupyter.widget-view+json": {
       "model_id": "8995169269fb442bad718d46f8fe151b",
       "version_major": 2,
       "version_minor": 0
      },
      "text/plain": [
       "  0%|          | 0/365 [00:00<?, ?it/s]"
      ]
     },
     "metadata": {},
     "output_type": "display_data"
    },
    {
     "name": "stdout",
     "output_type": "stream",
     "text": [
      "Error 2021-01-02 'NoneType' object has no attribute 'get' Retrying...\n",
      "Failed 2021-01-02 'NoneType' object has no attribute 'get'\n",
      "Error 2021-01-03 'NoneType' object has no attribute 'get' Retrying...\n",
      "Failed 2021-01-03 'NoneType' object has no attribute 'get'\n",
      "Error 2021-01-04 'NoneType' object has no attribute 'get' Retrying...\n",
      "Failed 2021-01-04 'NoneType' object has no attribute 'get'\n"
     ]
    }
   ],
   "source": [
    "await download_range(\"2021-01-01\", \"2021-12-31\", \"air-temperature\")"
   ]
  },
  {
   "cell_type": "code",
   "execution_count": 32,
   "id": "7625ee8f",
   "metadata": {},
   "outputs": [
    {
     "data": {
      "application/vnd.jupyter.widget-view+json": {
       "model_id": "990174fef931453f8dd187a1a123b0aa",
       "version_major": 2,
       "version_minor": 0
      },
      "text/plain": [
       "  0%|          | 0/365 [00:00<?, ?it/s]"
      ]
     },
     "metadata": {},
     "output_type": "display_data"
    },
    {
     "name": "stdout",
     "output_type": "stream",
     "text": [
      "Error 2022-06-01 'NoneType' object has no attribute 'get' Retrying...\n"
     ]
    }
   ],
   "source": [
    "await download_range(\"2022-01-01\", \"2022-12-31\", \"air-temperature\")"
   ]
  },
  {
   "cell_type": "code",
   "execution_count": 31,
   "id": "3a636683",
   "metadata": {},
   "outputs": [
    {
     "data": {
      "application/vnd.jupyter.widget-view+json": {
       "model_id": "0c04803546274d869e78245cc2eb9ec4",
       "version_major": 2,
       "version_minor": 0
      },
      "text/plain": [
       "  0%|          | 0/365 [00:00<?, ?it/s]"
      ]
     },
     "metadata": {},
     "output_type": "display_data"
    },
    {
     "name": "stdout",
     "output_type": "stream",
     "text": [
      "Error 2023-01-02 'NoneType' object has no attribute 'get' Retrying...\n",
      "Failed 2023-01-02 'NoneType' object has no attribute 'get'\n",
      "Error 2023-01-03 'NoneType' object has no attribute 'get' Retrying...\n",
      "Failed 2023-01-03 'NoneType' object has no attribute 'get'\n",
      "Error 2023-01-04 'NoneType' object has no attribute 'get' Retrying...\n",
      "Failed 2023-01-04 'NoneType' object has no attribute 'get'\n",
      "Error 2023-01-05 'NoneType' object has no attribute 'get' Retrying...\n",
      "Failed 2023-01-05 'NoneType' object has no attribute 'get'\n",
      "Error 2023-01-06 'NoneType' object has no attribute 'get' Retrying...\n",
      "Failed 2023-01-06 'NoneType' object has no attribute 'get'\n",
      "Error 2023-01-07 'NoneType' object has no attribute 'get' Retrying...\n",
      "Failed 2023-01-07 'NoneType' object has no attribute 'get'\n",
      "Error 2023-01-08 'NoneType' object has no attribute 'get' Retrying...\n",
      "Failed 2023-01-08 'NoneType' object has no attribute 'get'\n",
      "Error 2023-01-09 'NoneType' object has no attribute 'get' Retrying...\n",
      "Failed 2023-01-09 'NoneType' object has no attribute 'get'\n"
     ]
    }
   ],
   "source": [
    "await download_range(\"2023-01-01\", \"2023-12-31\", \"air-temperature\")"
   ]
  },
  {
   "cell_type": "code",
   "execution_count": 30,
   "id": "9e55049a",
   "metadata": {},
   "outputs": [
    {
     "data": {
      "application/vnd.jupyter.widget-view+json": {
       "model_id": "402c2a358c86479b993e06f74dd522e1",
       "version_major": 2,
       "version_minor": 0
      },
      "text/plain": [
       "  0%|          | 0/366 [00:00<?, ?it/s]"
      ]
     },
     "metadata": {},
     "output_type": "display_data"
    },
    {
     "name": "stdout",
     "output_type": "stream",
     "text": [
      "Error 2024-04-09  Retrying...\n"
     ]
    }
   ],
   "source": [
    "await download_range(\"2024-01-01\", \"2024-12-31\", \"air-temperature\")"
   ]
  },
  {
   "cell_type": "code",
   "execution_count": 29,
   "id": "42cd57b6",
   "metadata": {},
   "outputs": [
    {
     "data": {
      "application/vnd.jupyter.widget-view+json": {
       "model_id": "2422730b962049088776efb25e9f93be",
       "version_major": 2,
       "version_minor": 0
      },
      "text/plain": [
       "  0%|          | 0/48 [00:00<?, ?it/s]"
      ]
     },
     "metadata": {},
     "output_type": "display_data"
    }
   ],
   "source": [
    "await download_range(\"2025-01-01\", \"2025-02-17\", \"air-temperature\")"
   ]
  },
  {
   "cell_type": "code",
   "execution_count": 23,
   "id": "22d059ab",
   "metadata": {},
   "outputs": [
    {
     "data": {
      "application/vnd.jupyter.widget-view+json": {
       "model_id": "f86e7fd761b54a8889df0a0c61484767",
       "version_major": 2,
       "version_minor": 0
      },
      "text/plain": [
       "  0%|          | 0/275 [00:00<?, ?it/s]"
      ]
     },
     "metadata": {},
     "output_type": "display_data"
    },
    {
     "name": "stdout",
     "output_type": "stream",
     "text": [
      "Error 2020-09-03  Retrying...\n"
     ]
    }
   ],
   "source": [
    "await download_range(\"2020-04-01\", \"2020-12-31\", \"wind-direction\")"
   ]
  },
  {
   "cell_type": "code",
   "execution_count": 24,
   "id": "a6a07f7b",
   "metadata": {},
   "outputs": [
    {
     "data": {
      "application/vnd.jupyter.widget-view+json": {
       "model_id": "5f6fccafe4584a9bb9dde26933e949a5",
       "version_major": 2,
       "version_minor": 0
      },
      "text/plain": [
       "  0%|          | 0/365 [00:00<?, ?it/s]"
      ]
     },
     "metadata": {},
     "output_type": "display_data"
    },
    {
     "name": "stdout",
     "output_type": "stream",
     "text": [
      "Error 2021-01-02 'NoneType' object has no attribute 'get' Retrying...\n",
      "Failed 2021-01-02 'NoneType' object has no attribute 'get'\n",
      "Error 2021-01-03 'NoneType' object has no attribute 'get' Retrying...\n",
      "Failed 2021-01-03 'NoneType' object has no attribute 'get'\n",
      "Error 2021-01-04 'NoneType' object has no attribute 'get' Retrying...\n",
      "Failed 2021-01-04 'NoneType' object has no attribute 'get'\n",
      "Error 2021-04-30 'NoneType' object has no attribute 'get' Retrying...\n",
      "Failed 2021-04-30 'NoneType' object has no attribute 'get'\n",
      "Error 2021-05-01 'NoneType' object has no attribute 'get' Retrying...\n",
      "Failed 2021-05-01 'NoneType' object has no attribute 'get'\n",
      "Error 2021-05-02 'NoneType' object has no attribute 'get' Retrying...\n",
      "Failed 2021-05-02 'NoneType' object has no attribute 'get'\n",
      "Error 2021-05-03 'NoneType' object has no attribute 'get' Retrying...\n",
      "Failed 2021-05-03 'NoneType' object has no attribute 'get'\n",
      "Error 2021-05-04 'NoneType' object has no attribute 'get' Retrying...\n",
      "Failed 2021-05-04 'NoneType' object has no attribute 'get'\n"
     ]
    }
   ],
   "source": [
    "await download_range(\"2021-01-01\", \"2021-12-31\", \"wind-direction\")"
   ]
  },
  {
   "cell_type": "code",
   "execution_count": 25,
   "id": "d1b48399",
   "metadata": {},
   "outputs": [
    {
     "data": {
      "application/vnd.jupyter.widget-view+json": {
       "model_id": "0a181e661e6c4c1fa39734a0f24f3e9d",
       "version_major": 2,
       "version_minor": 0
      },
      "text/plain": [
       "  0%|          | 0/365 [00:00<?, ?it/s]"
      ]
     },
     "metadata": {},
     "output_type": "display_data"
    },
    {
     "name": "stdout",
     "output_type": "stream",
     "text": [
      "Error 2022-04-23  Retrying...\n",
      "Error 2022-08-24 'NoneType' object has no attribute 'get' Retrying...\n"
     ]
    }
   ],
   "source": [
    "await download_range(\"2022-01-01\", \"2022-12-31\", \"wind-direction\")"
   ]
  },
  {
   "cell_type": "code",
   "execution_count": 26,
   "id": "aba7a587",
   "metadata": {},
   "outputs": [
    {
     "data": {
      "application/vnd.jupyter.widget-view+json": {
       "model_id": "b69c17397f4240e7b53cade93025cd4b",
       "version_major": 2,
       "version_minor": 0
      },
      "text/plain": [
       "  0%|          | 0/365 [00:00<?, ?it/s]"
      ]
     },
     "metadata": {},
     "output_type": "display_data"
    },
    {
     "name": "stdout",
     "output_type": "stream",
     "text": [
      "Error 2023-01-02 'NoneType' object has no attribute 'get' Retrying...\n",
      "Failed 2023-01-02 'NoneType' object has no attribute 'get'\n",
      "Error 2023-01-03 'NoneType' object has no attribute 'get' Retrying...\n",
      "Failed 2023-01-03 'NoneType' object has no attribute 'get'\n",
      "Error 2023-01-04 'NoneType' object has no attribute 'get' Retrying...\n",
      "Failed 2023-01-04 'NoneType' object has no attribute 'get'\n",
      "Error 2023-01-05 'NoneType' object has no attribute 'get' Retrying...\n",
      "Failed 2023-01-05 'NoneType' object has no attribute 'get'\n",
      "Error 2023-01-06 'NoneType' object has no attribute 'get' Retrying...\n",
      "Failed 2023-01-06 'NoneType' object has no attribute 'get'\n",
      "Error 2023-01-07 'NoneType' object has no attribute 'get' Retrying...\n",
      "Failed 2023-01-07 'NoneType' object has no attribute 'get'\n",
      "Error 2023-01-08 'NoneType' object has no attribute 'get' Retrying...\n",
      "Failed 2023-01-08 'NoneType' object has no attribute 'get'\n",
      "Error 2023-01-09 'NoneType' object has no attribute 'get' Retrying...\n",
      "Failed 2023-01-09 'NoneType' object has no attribute 'get'\n",
      "Error 2023-01-14 'NoneType' object has no attribute 'get' Retrying...\n",
      "Failed 2023-01-14 'NoneType' object has no attribute 'get'\n",
      "Error 2023-01-15 'NoneType' object has no attribute 'get' Retrying...\n",
      "Failed 2023-01-15 'NoneType' object has no attribute 'get'\n",
      "Error 2023-04-14 'NoneType' object has no attribute 'get' Retrying...\n",
      "Failed 2023-04-14 'NoneType' object has no attribute 'get'\n",
      "Error 2023-04-15 'NoneType' object has no attribute 'get' Retrying...\n",
      "Failed 2023-04-15 'NoneType' object has no attribute 'get'\n",
      "Error 2023-04-16 'NoneType' object has no attribute 'get' Retrying...\n",
      "Failed 2023-04-16 'NoneType' object has no attribute 'get'\n"
     ]
    }
   ],
   "source": [
    "await download_range(\"2023-01-01\", \"2023-12-31\", \"wind-direction\")"
   ]
  },
  {
   "cell_type": "code",
   "execution_count": 27,
   "id": "b9b5f356",
   "metadata": {},
   "outputs": [
    {
     "data": {
      "application/vnd.jupyter.widget-view+json": {
       "model_id": "3fa6cbf1d2774f6cbaff94ad7520fd81",
       "version_major": 2,
       "version_minor": 0
      },
      "text/plain": [
       "  0%|          | 0/366 [00:00<?, ?it/s]"
      ]
     },
     "metadata": {},
     "output_type": "display_data"
    }
   ],
   "source": [
    "await download_range(\"2024-01-01\", \"2024-12-31\", \"wind-direction\")"
   ]
  },
  {
   "cell_type": "code",
   "execution_count": 28,
   "id": "8042fa5f",
   "metadata": {},
   "outputs": [
    {
     "data": {
      "application/vnd.jupyter.widget-view+json": {
       "model_id": "8cffa30416284f52b522af46e366cb45",
       "version_major": 2,
       "version_minor": 0
      },
      "text/plain": [
       "  0%|          | 0/48 [00:00<?, ?it/s]"
      ]
     },
     "metadata": {},
     "output_type": "display_data"
    }
   ],
   "source": [
    "await download_range(\"2025-01-01\", \"2025-02-17\", \"wind-direction\")"
   ]
  },
  {
   "cell_type": "code",
   "execution_count": null,
   "id": "a440cd25",
   "metadata": {},
   "outputs": [],
   "source": []
  }
 ],
 "metadata": {
  "kernelspec": {
   "display_name": "Python 3",
   "language": "python",
   "name": "python3"
  },
  "language_info": {
   "codemirror_mode": {
    "name": "ipython",
    "version": 3
   },
   "file_extension": ".py",
   "mimetype": "text/x-python",
   "name": "python",
   "nbconvert_exporter": "python",
   "pygments_lexer": "ipython3",
   "version": "3.13.0"
  }
 },
 "nbformat": 4,
 "nbformat_minor": 5
}

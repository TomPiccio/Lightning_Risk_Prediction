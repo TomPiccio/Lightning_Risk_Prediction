{
 "cells": [
  {
   "cell_type": "code",
   "execution_count": null,
   "id": "64c545b0",
   "metadata": {},
   "outputs": [],
   "source": [
    "import torch\n",
    "from torch.utils.data import Dataset\n",
    "import pandas as pd\n",
    "import pytz\n",
    "import numpy as np\n",
    "import os\n",
    "import sys\n",
    "scripts_dir = os.path.abspath(os.path.join(os.getcwd(), '..', 'scripts'))\n",
    "sys.path.append(scripts_dir)\n",
    "from data_generator import normalize_new_data\n"
   ]
  },
  {
   "cell_type": "code",
   "execution_count": 10,
   "id": "c58c877c",
   "metadata": {},
   "outputs": [
    {
     "name": "stdout",
     "output_type": "stream",
     "text": [
      "cuda\n"
     ]
    }
   ],
   "source": [
    "device = torch.device(\"cuda\" if torch.cuda.is_available() else \"cpu\")\n",
    "print(device)\n",
    "torch.set_default_device(device)"
   ]
  },
  {
   "cell_type": "code",
   "execution_count": 11,
   "id": "09507d57",
   "metadata": {},
   "outputs": [],
   "source": [
    "data = pd.read_csv(\"../data/final_data/cleaned_compiled_data.csv\")"
   ]
  },
  {
   "cell_type": "code",
   "execution_count": 12,
   "id": "2e86fb22",
   "metadata": {},
   "outputs": [],
   "source": [
    "class LightningDataset(Dataset):\n",
    "    def __init__(self, compiled_df, timezone_str=\"Asia/Singapore\"):\n",
    "        self.compiled_df = compiled_df.copy()\n",
    "        self.timezone = pytz.timezone(timezone_str)\n",
    "        self.samples = []\n",
    "\n",
    "        self._prepare_dataset()\n",
    "\n",
    "    def _prepare_dataset(self):\n",
    "        # Ensure datetime index\n",
    "        self.compiled_df[\"Timestamp\"] = pd.to_datetime(self.compiled_df[\"Timestamp\"])\n",
    "        if not isinstance(self.compiled_df.index, pd.DatetimeIndex):\n",
    "            self.compiled_df.set_index(\"Timestamp\", inplace=True)\n",
    "        self.compiled_df.index = self.compiled_df.index.tz_localize(None)\n",
    "\n",
    "        # Prepare input features and drop target\n",
    "        input_df = self.compiled_df.drop(columns=[\"Lightning_Risk\"])\n",
    "        input_columns = input_df.columns.values.tolist()\n",
    "\n",
    "        # Get valid timestamps\n",
    "        min_ts = self.compiled_df.index.min().ceil(\"2h\") + pd.Timedelta(hours=2)\n",
    "        max_ts = self.compiled_df.index.max().floor(\"2h\")\n",
    "        valid_ts = self.compiled_df.loc[\n",
    "            (self.compiled_df.index >= min_ts) &\n",
    "            (self.compiled_df.index <= max_ts) &\n",
    "            (self.compiled_df.index.hour % 2 == 0) &\n",
    "            (self.compiled_df.index.minute == 0)\n",
    "        ].index\n",
    "\n",
    "        for timestamp in valid_ts:\n",
    "            try:\n",
    "                # Input time windows (past)\n",
    "                input_times = [timestamp - pd.Timedelta(minutes=delta) for delta in [120, 90, 60, 30, 0]]\n",
    "                input_data = input_df.loc[input_times].values.flatten()\n",
    "\n",
    "                # Output time windows (future)\n",
    "                output_times = [timestamp + pd.Timedelta(minutes=delta) for delta in [0, 30, 60, 90, 120]]\n",
    "                output_data = self.compiled_df.loc[output_times, \"Lightning_Risk\"].astype(int).values.flatten()\n",
    "\n",
    "                self.samples.append((input_data, output_data))\n",
    "            except KeyError:\n",
    "                continue  # Skip if any timestamps are missing\n",
    "\n",
    "    def __len__(self):\n",
    "        return len(self.samples)\n",
    "\n",
    "    def __getitem__(self, idx):\n",
    "        x, y = self.samples[idx]\n",
    "        return torch.tensor(x, dtype=torch.float32), torch.tensor(y, dtype=torch.float32)"
   ]
  },
  {
   "cell_type": "code",
   "execution_count": 13,
   "id": "ef17448b",
   "metadata": {},
   "outputs": [],
   "source": [
    "dataset = LightningDataset(data)"
   ]
  },
  {
   "cell_type": "code",
   "execution_count": 14,
   "id": "a4069540",
   "metadata": {},
   "outputs": [
    {
     "data": {
      "text/plain": [
       "8398"
      ]
     },
     "execution_count": 14,
     "metadata": {},
     "output_type": "execute_result"
    }
   ],
   "source": [
    "len(dataset)"
   ]
  },
  {
   "cell_type": "code",
   "execution_count": 15,
   "id": "facfb866",
   "metadata": {},
   "outputs": [
    {
     "data": {
      "text/plain": [
       "(tensor([9.6360e+04, 0.0000e+00, 0.0000e+00, 0.0000e+00, 0.0000e+00, 0.0000e+00,\n",
       "         0.0000e+00, 0.0000e+00, 0.0000e+00, 3.3200e+01, 2.8300e+01, 3.2600e+01,\n",
       "         3.0800e+01, 3.1200e+01, 3.2500e+01, 3.2500e+01, 3.2400e+01, 5.5000e+00,\n",
       "         1.2400e+01, 3.1000e+00, 6.7000e+00, 6.4000e+00, 5.9000e+00, 5.3000e+00,\n",
       "         2.1000e+00, 4.4200e+01, 8.2700e+01, 4.9400e+01, 6.8800e+01, 7.4900e+01,\n",
       "         5.3100e+01, 6.1800e+01, 5.1500e+01, 1.1000e+01, 9.3000e+01, 1.0400e+02,\n",
       "         3.1200e+02, 1.6600e+02, 4.3000e+01, 2.5200e+02, 1.5900e+02, 9.6366e+04,\n",
       "         0.0000e+00, 0.0000e+00, 0.0000e+00, 0.0000e+00, 0.0000e+00, 0.0000e+00,\n",
       "         0.0000e+00, 0.0000e+00, 3.3500e+01, 2.8300e+01, 3.2200e+01, 3.1200e+01,\n",
       "         3.0400e+01, 3.2900e+01, 3.3200e+01, 3.0700e+01, 5.0000e+00, 1.2600e+01,\n",
       "         4.2000e+00, 4.3000e+00, 7.7000e+00, 7.3000e+00, 4.9000e+00, 4.7000e+00,\n",
       "         4.3500e+01, 8.3300e+01, 5.4600e+01, 6.3600e+01, 7.6300e+01, 5.3300e+01,\n",
       "         5.9900e+01, 6.1900e+01, 1.0000e+00, 9.5000e+01, 1.0300e+02, 1.2500e+02,\n",
       "         1.4700e+02, 6.8000e+01, 2.6600e+02, 1.2500e+02, 9.6372e+04, 0.0000e+00,\n",
       "         0.0000e+00, 0.0000e+00, 0.0000e+00, 0.0000e+00, 0.0000e+00, 0.0000e+00,\n",
       "         0.0000e+00, 3.2300e+01, 2.8300e+01, 3.2800e+01, 3.2000e+01, 3.0700e+01,\n",
       "         3.2600e+01, 3.2300e+01, 3.1000e+01, 6.2000e+00, 1.2700e+01, 4.4000e+00,\n",
       "         3.0000e+00, 8.1000e+00, 6.4000e+00, 5.5000e+00, 5.4000e+00, 5.0400e+01,\n",
       "         8.2300e+01, 5.0000e+01, 5.9900e+01, 7.3200e+01, 5.6200e+01, 6.1600e+01,\n",
       "         6.0900e+01, 5.9000e+01, 8.8000e+01, 8.7000e+01, 1.1700e+02, 1.4200e+02,\n",
       "         7.2000e+01, 2.4400e+02, 1.3500e+02, 9.6378e+04, 0.0000e+00, 0.0000e+00,\n",
       "         0.0000e+00, 0.0000e+00, 0.0000e+00, 0.0000e+00, 0.0000e+00, 0.0000e+00,\n",
       "         3.1800e+01, 3.0400e+01, 3.1700e+01, 3.1800e+01, 3.1300e+01, 3.2500e+01,\n",
       "         3.1700e+01, 3.1600e+01, 1.2000e+01, 5.8000e+00, 5.7000e+00, 1.9000e+00,\n",
       "         6.4000e+00, 8.8000e+00, 6.6000e+00, 2.9000e+00, 5.4100e+01, 6.7000e+01,\n",
       "         5.5800e+01, 5.9800e+01, 6.7900e+01, 5.6100e+01, 5.9400e+01, 5.7100e+01,\n",
       "         6.8000e+01, 4.7000e+01, 7.9000e+01, 7.3000e+01, 1.3300e+02, 4.2000e+01,\n",
       "         8.0000e+00, 8.7000e+01, 9.6384e+04, 0.0000e+00, 0.0000e+00, 0.0000e+00,\n",
       "         0.0000e+00, 0.0000e+00, 0.0000e+00, 0.0000e+00, 0.0000e+00, 3.1700e+01,\n",
       "         3.0800e+01, 3.2300e+01, 3.0600e+01, 3.0300e+01, 3.1500e+01, 3.1400e+01,\n",
       "         3.0300e+01, 1.0800e+01, 5.7000e+00, 5.9000e+00, 3.6000e+00, 6.3000e+00,\n",
       "         8.4000e+00, 8.3000e+00, 6.6000e+00, 5.7500e+01, 6.3600e+01, 5.5300e+01,\n",
       "         6.5900e+01, 7.6200e+01, 5.7800e+01, 6.1700e+01, 6.4700e+01, 4.5000e+01,\n",
       "         5.0000e+00, 7.4000e+01, 3.2400e+02, 1.2600e+02, 5.0000e+01, 4.5000e+01,\n",
       "         1.4200e+02], device='cuda:0'),\n",
       " tensor([0., 0., 0., 0., 0.], device='cuda:0'))"
      ]
     },
     "execution_count": 15,
     "metadata": {},
     "output_type": "execute_result"
    }
   ],
   "source": [
    "dataset[0]"
   ]
  },
  {
   "cell_type": "code",
   "execution_count": null,
   "id": "2a4c5fda",
   "metadata": {},
   "outputs": [],
   "source": []
  }
 ],
 "metadata": {
  "kernelspec": {
   "display_name": "Python 3",
   "language": "python",
   "name": "python3"
  },
  "language_info": {
   "codemirror_mode": {
    "name": "ipython",
    "version": 3
   },
   "file_extension": ".py",
   "mimetype": "text/x-python",
   "name": "python",
   "nbconvert_exporter": "python",
   "pygments_lexer": "ipython3",
   "version": "3.13.0"
  }
 },
 "nbformat": 4,
 "nbformat_minor": 5
}
